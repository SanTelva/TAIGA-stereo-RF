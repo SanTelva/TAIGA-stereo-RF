{
 "cells": [
  {
   "cell_type": "code",
   "execution_count": 1,
   "metadata": {},
   "outputs": [],
   "source": [
    "import os, re\n",
    "import numpy as np\n",
    "from matplotlib.patches import Ellipse\n",
    "import matplotlib.pyplot as plt\n",
    "files = [f for f in os.listdir() if re.match(\"taiga\\w*\", f)]\n",
    "xlims = [-5, 5]\n",
    "ylims = [-5, 5]\n",
    "Nbins = 100"
   ]
  },
  {
   "cell_type": "code",
   "execution_count": 2,
   "metadata": {},
   "outputs": [],
   "source": [
    "def intersect(pov1, pov2):\n",
    "    vec1 = np.array((1, pov1.a))\n",
    "    vec2 = np.array((1, pov2.a))\n",
    "    def length(vec):\n",
    "        return np.sqrt(vec[0] ** 2 + vec[1] ** 2)\n",
    "    X = (pov2.b - pov1.b)/(pov1.a - pov2.a)\n",
    "#     print(X)\n",
    "    Y = pov1.a * X + pov1.b\n",
    "    theta = np.arccos(np.sum(vec1 * vec2 / length(vec1) / length(vec2)))\n",
    "    return (X, Y, np.degrees(theta))\n",
    "\n",
    "def mean_intersect(event):\n",
    "    povs = [(i, pov) for (i, pov) in enumerate(event.data) if pov]\n",
    "#     print([(i, pov.width, pov.size, pov.a) for (i, pov) in povs])\n",
    "    totalsize = np.sum([pov.size for (_, pov) in povs])\n",
    "    N = len(povs)\n",
    "    xs = []\n",
    "    ys = []\n",
    "    ws = []\n",
    "    xbins = np.linspace(*xlims, Nbins)\n",
    "    ybins = np.linspace(*ylims, Nbins)\n",
    "    for (i, pov1) in povs:\n",
    "        for (j, pov2) in povs:\n",
    "            if (i < j):\n",
    "                x, y, theta = intersect(pov1, pov2)\n",
    "                w = (pov1.size + pov2.size)/totalsize * np.sin(np.radians(theta))\n",
    "                xs.append(x)\n",
    "                ys.append(y)\n",
    "                ws.append(w)\n",
    "    hist, _, _ = np.histogram2d(x = xs, y = ys, weights = ws, bins = (xbins, ybins))\n",
    "#     plt.imshow(hist.T, cmap=plt.cm.viridis)\n",
    "#     plt.colorbar()\n",
    "#     plt.show()\n",
    "    ymean = np.sum([np.sum(xbins[:-1] * i) for i in hist])/Nbins\n",
    "    xmean = np.sum([np.sum(ybins[:-1] * i) for i in hist.T])/Nbins\n",
    "#     print(xmean, ymean)\n",
    "    return (xmean, ymean)\n",
    "\n",
    "# pov1, pov2 = e.data[0], e.data[4]\n",
    "# intersect(PoV(a = -3, b = 7), PoV(a = 0.5, b = 1))\n",
    "# mean_intersect(e)\n",
    "# pov1, pov2 = PoV(Ntel = 1, size = 100, xc = 100, yc = 150, a = 1, b = 50), PoV(Ntel = 2, size = 100, xc = -100, yc = 100, a = -1, b = 0)\n",
    "\n",
    "# intersect(pov1, pov2)"
   ]
  },
  {
   "cell_type": "code",
   "execution_count": 3,
   "metadata": {},
   "outputs": [],
   "source": [
    "class PoV():\n",
    "    def __init__(self, Ntel = 0, Npix = 0, \n",
    "                 size = 0, xax = 0, yax = 0, dist = 0, bound = 0,\n",
    "                 a = 0, b = 0, alpha = 0, width = 0, xc = 0, yc = 0, length = 0):\n",
    "        self.Ntel = Ntel\n",
    "        self.Npix = Npix\n",
    "        self.size = size\n",
    "        self.xax = xax\n",
    "        self.yax = yax\n",
    "        self.dist = dist\n",
    "        self.bound = bool(bound)\n",
    "        self.a = a\n",
    "        if Npix:\n",
    "            self.b = b * 0.1206\n",
    "        else:\n",
    "            self.b = b\n",
    "        self.alpha = alpha\n",
    "        self.width = width\n",
    "        self.xc = xc #/ 0.1206\n",
    "        self.yc = yc #/ 0.1206\n",
    "        self.length = length\n",
    "    def vizualize(self, colors = ['r', 'y', 'g', 'c', 'b', 'm', 'k'], alpha = 0.3, pixel_coords = None):\n",
    "        #alpha = 0.3 #параметр для нормирования прозрачности\n",
    "        fig, ax = plt.subplots(figsize=(7,7))\n",
    "        # ax.set_title(\"#\"+super().Nevent+\"   \"+str(self.time), fontsize=16)\n",
    "        ax.set_xlim([-3, 3])\n",
    "        ax.set_ylim([-3, 3])\n",
    "        # ax.scatter(self.source_x, self.source_y, marker = \"*\", c = \"red\")\n",
    "        ellipse = Ellipse((self.xc, self.yc), \n",
    "                              2 * self.length,\n",
    "                              2 * self.width, angle = -alpha, color = \"r\", alpha = 0.5)\n",
    "        ax.add_artist(ellipse)\n",
    "            # print(ellipse)\n",
    "        if pixel_coords is not None:\n",
    "            plt.scatter(pixel_coords[pixel][1], pixel_coords[pixel][2], color = colors[(pixel_coords[pixel][0]-1)%7], alpha = 0.1)\n",
    "        return ax\n",
    "    \n",
    "    def core(self):\n",
    "        return self.Ntel, self.size\n",
    "\n",
    "class MCEvent():\n",
    "    def __init__(self, Nevent = 1, Naxis = 0, Ntrig = 1, E = 100, \n",
    "                 tel_theta = 0, tel_phi = 0, src_theta = 0, src_phi = 0, \n",
    "                 source_x = 0, source_y = 0, xmax = 1000):\n",
    "        self.Nevent = Nevent\n",
    "        self.Naxis = Naxis\n",
    "        self.Ntrig = Ntrig\n",
    "        self.E = E\n",
    "        self.tel_theta = tel_theta\n",
    "        self.x = source_x * 0.1206\n",
    "        self.y = source_y * 0.1206\n",
    "        self.xmax = xmax\n",
    "        self.data = [None for i in range(5)]\n",
    "    def add(self, pov = PoV()):\n",
    "        self.data[pov.Ntel] = pov\n",
    "    def count(self):\n",
    "        z = 0\n",
    "        for pov in self.data:\n",
    "            if pov:\n",
    "                z += 1\n",
    "        return z\n",
    "    def vizualize(self, colors = ['r', 'y', 'g', 'c', 'b', 'm', 'k'], alpha = 0.3, pixel_coords = None):\n",
    "        #alpha = 0.3 #параметр для нормирования прозрачности\n",
    "        fig, ax = plt.subplots(figsize=(7,7))\n",
    "        # ax.set_title(\"#\"+super().Nevent+\"   \"+str(self.time), fontsize=16)\n",
    "        ax.set_xlim(xlims)\n",
    "        ax.set_ylim(ylims)\n",
    "        xes = np.linspace(-5, 5, 20)\n",
    "        # ax.scatter(self.source_x, self.source_y, marker = \"*\", c = \"red\")\n",
    "        for pov in self.data:\n",
    "            if pov:\n",
    "                ax.plot(xes, pov.a * xes + pov.b, \":m\")\n",
    "                ellipse = Ellipse((pov.xc, pov.yc), \n",
    "                                      2 * pov.length,\n",
    "                                      2 * pov.width, angle = np.degrees(np.arctan(pov.a)),\n",
    "                                  color = \"r\", alpha = 0.5)\n",
    "                ax.add_artist(ellipse)\n",
    "                ax.text(pov.xc, pov.yc, str(pov.Ntel))\n",
    "            # print(ellipse)\n",
    "        ax.scatter(self.x, self.y, marker = '*', c = 'r')\n",
    "#         if self.count() == 2:\n",
    "#             pov1, pov2 = [pov for pov in self.data if pov]\n",
    "#             X, Y, theta = intersect(pov1, pov2)\n",
    "#             print(X, Y, theta)\n",
    "        if self.count() > 1:\n",
    "            X, Y = mean_intersect(self)\n",
    "            print(\"Intersect at\", \"{:.3f} {:.3f}\".format(X, Y))\n",
    "            print(\"Axis determination error is\", \"{:.3f}\".format(eudist((X, Y), (self.x, self.y))))\n",
    "            ax.scatter(X, Y, marker = '*', c = 'm')\n",
    "        if pixel_coords is not None:\n",
    "            plt.scatter(pixel_coords[pixel][1], pixel_coords[pixel][2], color = colors[(pixel_coords[pixel][0]-1)%7], alpha = 0.1)\n",
    "        return ax\n"
   ]
  },
  {
   "cell_type": "code",
   "execution_count": 7,
   "metadata": {},
   "outputs": [
    {
     "name": "stdout",
     "output_type": "stream",
     "text": [
      "Intersect at -0.006 0.003\n",
      "Axis determination error is 0.088\n"
     ]
    },
    {
     "data": {
      "image/png": "[encoded data removed]",
      "text/plain": [
       "<Figure size 504x504 with 1 Axes>"
      ]
     },
     "metadata": {
      "needs_background": "light"
     },
     "output_type": "display_data"
    }
   ],
   "source": [
    "def eudist(a1, a2):\n",
    "    return np.sqrt((a1[0] - a2[0])**2 + (a1[1] - a2[0])**2)\n",
    "\n",
    "\n",
    "\n",
    "events = []\n",
    "for f in files:\n",
    "    with open(f, \"r\") as fin:\n",
    "        while True:\n",
    "            line = fin.readline().split(\"\\t\")\n",
    "            if line == ['']:\n",
    "                break\n",
    "            Nevent, Naxis, Ntrig = map(int, line[:3])\n",
    "            (E, tel_theta, tel_phi, src_theta, src_phi,\n",
    "             source_x, source_y, xmax) = map(float, line[3:])\n",
    "            event = MCEvent(Nevent, Naxis, Ntrig, E, tel_theta, \n",
    "                            tel_phi, src_theta, src_phi,\n",
    "                            source_x, source_y, xmax)\n",
    "            for trig in range(Ntrig):\n",
    "                line = fin.readline().split(\"\\t\")\n",
    "                Ntel, Npix = map(int, line[:2])\n",
    "                (size, xax, yax, dist, bound, a, b, alpha, width, xc, yc, length) = map(float, line[2:-1])\n",
    "                event.add(PoV(Ntel, Npix, size, \n",
    "                              xax, yax, dist, bound,\n",
    "                              a, b, alpha, width, xc, yc, length))\n",
    "            events.append(event)\n",
    "#e =   events[152]\n",
    "e = events[54]\n",
    "# e1 = e.data[0]\n",
    "# e2 = e.data[4]\n",
    "# print(e1.a, e1.b)\n",
    "# print(e2.a, e2.b)\n",
    "# print(e1.xc, e1.yc)\n",
    "e.vizualize()\n",
    "pov1, pov2 = [pov for pov in e.data if pov]\n",
    "ix, iy, _ = intersect(pov1, pov2)\n",
    "# print(ix, iy)\n",
    "# print(*[(pov.xax, pov.yax) for pov in e.data if pov])\n",
    "# print(*[pov.tel_theta for pov in e.data if pov])"
   ]
  },
  {
   "cell_type": "code",
   "execution_count": 5,
   "metadata": {},
   "outputs": [
    {
     "name": "stdout",
     "output_type": "stream",
     "text": [
      "(206.12073428022006, 2.520874051039355)\n",
      "(242.5987248290373, 2.490556100278684)\n",
      "(344.6543947331403, 0.9159716718441164)\n",
      "(255.51680874731568, 1.1630582627872565)\n",
      "(322.07707433832155, 2.820369739318391)\n",
      "\n",
      "274.193547385607 51.45585374860442 368.207\n"
     ]
    }
   ],
   "source": [
    "def c1(r):\n",
    "    return 0.1 * r / 1000\n",
    "\n",
    "def c2(r):\n",
    "    c = 1.1\n",
    "    k = -0.00433\n",
    "    if r > 125:\n",
    "        return c\n",
    "    else:\n",
    "        return c * np.exp(k * (125 - r))\n",
    "    \n",
    "def hmax(d, r):\n",
    "    # km\n",
    "#     return 1/(c1(r) + c2(r) + np.pi / 180 * d / (r / 1000))\n",
    "    return c1(r) + r / (np.pi/180 * d) / 1000\n",
    "\n",
    "def Xmax(h):\n",
    "    P0 = 1033\n",
    "    g = 9.807\n",
    "    R = 8.31\n",
    "    M = 28.964\n",
    "    T0 = 273 - 20\n",
    "    T11 = 273 - 56.5\n",
    "    gradT = (T11 - T0) / 11\n",
    "    return P0 * (1 + gradT * h / T0) ** (-g * M / (gradT * R))\n",
    "\n",
    "heights = []\n",
    "dists = [pov.dist/np.cos(e.tel_theta) for pov in e.data if pov]\n",
    "for pov in e.data:\n",
    "    if pov:\n",
    "        r = np.sqrt(pov.xax ** 2 + pov.yax ** 2)\n",
    "        d = pov.dist\n",
    "        heights.append(Xmax(hmax(d, r)))\n",
    "print(*zip(heights, dists), sep = '\\n')\n",
    "print()\n",
    "print(np.mean(heights), np.std(heights), e.xmax)\n"
   ]
  },
  {
   "cell_type": "code",
   "execution_count": 6,
   "metadata": {},
   "outputs": [],
   "source": [
    "fout = open(\"mono.txt\", \"w\")\n",
    "for e in events:\n",
    "    if e.count() == 1:\n",
    "        print(e.E, e.Naxis, e.xmax, file = fout)\n",
    "        for pov in e.data:\n",
    "            if pov:\n",
    "                print(pov.Ntel, pov.size, pov.alpha, file = fout)\n",
    "        print(file = fout)\n",
    "fout.close()"
   ]
  },
  {
   "cell_type": "code",
   "execution_count": 9,
   "metadata": {},
   "outputs": [],
   "source": [
    "fout = open(\"mono.txt\", \"w\")\n",
    "print('NpxIm', 'sizeIm', 'rc', 'width', 'con2', sep = ',', file = fout)\n",
    "for e in events:\n",
    "    if e.count() == 1:\n",
    "        for pov in e.data:\n",
    "            if pov:\n",
    "                print(pov.Npix, pov.size, (pov.xc**2 + pov.yc**2)**0.5, pov.width, file = fout, sep = ',')\n",
    "fout.close()"
   ]
  },
  {
   "cell_type": "code",
   "execution_count": 8,
   "metadata": {},
   "outputs": [
    {
     "name": "stdout",
     "output_type": "stream",
     "text": [
      "1 2\n",
      "5 2\n",
      "12 2\n",
      "17 2\n",
      "18 2\n",
      "26 2\n",
      "36 2\n",
      "44 2\n",
      "53 2\n",
      "54 2\n",
      "59 2\n",
      "61 2\n",
      "66 2\n",
      "70 2\n",
      "84 2\n",
      "97 2\n",
      "116 2\n",
      "120 2\n",
      "124 2\n",
      "129 2\n",
      "131 2\n",
      "132 2\n",
      "134 2\n",
      "138 2\n",
      "151 2\n",
      "155 2\n",
      "175 2\n",
      "183 2\n",
      "185 2\n",
      "191 2\n"
     ]
    }
   ],
   "source": [
    "for i in range(200):\n",
    "    if events[i].count() == 2:\n",
    "        print(i, events[i].count())\n",
    "\n"
   ]
  },
  {
   "cell_type": "code",
   "execution_count": null,
   "metadata": {},
   "outputs": [],
   "source": [
    "iactx = [108.52, -35.52, 329.61, 210, 519.86]\n",
    "iacty = [91.3, -197.15, -361.22, -139, 23.46]\n",
    "\n",
    "\n",
    "\n",
    "# pov1, pov2 = e.data[0], e.data[4]\n",
    "# intersect(PoV(a = -3, b = 7), PoV(a = 0.5, b = 1))\n",
    "# mean_intersect(e)\n",
    "# pov1, pov2 = PoV(Ntel = 1, size = 100, xc = 100, yc = 150, a = 1, b = 50), PoV(Ntel = 2, size = 100, xc = -100, yc = 100, a = -1, b = 0)\n",
    "\n",
    "# intersect(pov1, pov2)"
   ]
  },
  {
   "cell_type": "code",
   "execution_count": 20,
   "metadata": {},
   "outputs": [
    {
     "name": "stdout",
     "output_type": "stream",
     "text": [
      "-0.1071151411342407 -0.06897567096568302\n"
     ]
    }
   ],
   "source": [
    "xmaplims = [-550, 550]\n",
    "ymaplims = [-550, 550]\n",
    "\n",
    "iactx = [108.52, -35.52, 329.61, 210, 519.86]\n",
    "iacty = [91.3, -197.15, -361.22, -139, 23.46]\n",
    "\n",
    "def intersect(pov1, pov2):\n",
    "    vec1 = np.array((1, pov1.a))\n",
    "    vec2 = np.array((1, pov2.a))\n",
    "    def length(vec):\n",
    "        return np.sqrt(vec[0] ** 2 + vec[1] ** 2)\n",
    "    X = (pov2.b - pov1.b)/(pov1.a - pov2.a)\n",
    "#     print(X)\n",
    "    Y = pov1.a * X + pov1.b\n",
    "    theta = np.arccos(np.sum(vec1 * vec2 / length(vec1) / length(vec2)))\n",
    "    return (X, Y, np.degrees(theta))\n",
    "\n",
    "def tel_intersect(event):\n",
    "    povs = [(i, pov) for (i, pov) in enumerate(event.data) if pov]\n",
    "#     print([(i, pov.width, pov.size, pov.a) for (i, pov) in povs])\n",
    "    totalsize = np.sum([pov.size for (_, pov) in povs])\n",
    "    N = len(povs)\n",
    "    xs = []\n",
    "    ys = []\n",
    "    ws = []\n",
    "    xbins = np.linspace(*xlims, Nbins)\n",
    "    ybins = np.linspace(*ylims, Nbins)\n",
    "    for (i, pov1) in povs:\n",
    "        for (j, pov2) in povs:\n",
    "            if (i < j):\n",
    "                x, y, theta = intersect(pov1, pov2)\n",
    "                w = (pov1.size + pov2.size)/totalsize * np.sin(np.radians(theta))\n",
    "                xs.append(x)\n",
    "                ys.append(y)\n",
    "                ws.append(w)\n",
    "    hist, _, _ = np.histogram2d(x = xs, y = ys, weights = ws, bins = (xbins, ybins))\n",
    "#     plt.imshow(hist.T, cmap=plt.cm.viridis)\n",
    "#     plt.colorbar()\n",
    "#     plt.show()\n",
    "    ymean = np.sum([np.sum(xbins[:-1] * i) for i in hist])/Nbins\n",
    "    xmean = np.sum([np.sum(ybins[:-1] * i) for i in hist.T])/Nbins\n",
    "#     print(xmean, ymean)\n",
    "    return (xmean, ymean)\n",
    "\n",
    "new_event = MCEvent(Ntrig = e.count())\n",
    "for pov in e.data:\n",
    "    if pov:\n",
    "        new_event.add(PoV(Ntel = pov.Ntel, size = pov.size, \n",
    "                          a = pov.a, b = pov.b, xc = iactx[Ntel], yc = iacty[Ntel]))\n",
    "xint, yint = mean_intersect(new_event)\n",
    "print(xint, yint)"
   ]
  },
  {
   "cell_type": "code",
   "execution_count": 19,
   "metadata": {},
   "outputs": [
    {
     "data": {
      "text/plain": [
       "<matplotlib.collections.PathCollection at 0x7fef2e5baf40>"
      ]
     },
     "execution_count": 19,
     "metadata": {},
     "output_type": "execute_result"
    },
    {
     "data": {
      "image/png": "[encoded data removed]",
      "text/plain": [
       "<Figure size 432x432 with 1 Axes>"
      ]
     },
     "metadata": {
      "needs_background": "light"
     },
     "output_type": "display_data"
    }
   ],
   "source": [
    "fig, ax = plt.subplots(figsize=(6, 6))\n",
    "ax.set_xlim(*xmaplims)\n",
    "ax.set_ylim(*ymaplims)\n",
    "\n",
    "# ax.scatter(xshifts, yshifts)\n",
    "ax.scatter(iactx, iacty)\n",
    "# ax.scatter(xint, yint)"
   ]
  },
  {
   "cell_type": "code",
   "execution_count": 9,
   "metadata": {},
   "outputs": [
    {
     "data": {
      "text/plain": [
       "49.9901"
      ]
     },
     "execution_count": 9,
     "metadata": {},
     "output_type": "execute_result"
    },
    {
     "data": {
      "image/png": "[encoded data removed]",
      "text/plain": [
       "<Figure size 432x288 with 1 Axes>"
      ]
     },
     "metadata": {
      "needs_background": "light"
     },
     "output_type": "display_data"
    }
   ],
   "source": [
    "energies = []\n",
    "with open(\"list_events599.txt\", \"r\") as fin:\n",
    "    while True:\n",
    "        line = fin.readline().split(\"\\t\")\n",
    "        if line == ['']:\n",
    "            break\n",
    "        Nevent, Naxis, E = int(line[0]), int(line[1]), float(line[2])\n",
    "        energies.append(E)\n",
    "plt.hist(energies, log = True, bins = 10)\n",
    "np.max(energies)"
   ]
  },
  {
   "cell_type": "code",
   "execution_count": 8,
   "metadata": {},
   "outputs": [
    {
     "data": {
      "text/plain": [
       "-4.937454884151634"
      ]
     },
     "execution_count": 8,
     "metadata": {},
     "output_type": "execute_result"
    }
   ],
   "source": [
    "xerrbins = np.linspace(*xlims, Nbins)\n",
    "yerrbins = np.linspace(*ylims, Nbins)\n",
    "errorsx = []\n",
    "errorsy = []\n",
    " \n",
    "for e in events:\n",
    "    if e.count() == 2:\n",
    "        pov1, pov2 = [pov for pov in e.data if pov]\n",
    "        ix, iy, _ = intersect(pov1, pov2)\n",
    "        if abs(e.x - iy) < 5:\n",
    "            errorsx.append(e.x - ix)\n",
    "        if abs(e.y - iy) < 5:\n",
    "            errorsy.append(e.y - iy)\n",
    "# plt.hist(errorsx)\n",
    "\n",
    "np.min(errorsy)"
   ]
  },
  {
   "cell_type": "code",
   "execution_count": 12,
   "metadata": {},
   "outputs": [
    {
     "data": {
      "text/plain": [
       "<matplotlib.legend.Legend at 0x7f4065dd6130>"
      ]
     },
     "execution_count": 12,
     "metadata": {},
     "output_type": "execute_result"
    },
    {
     "data": {
      "image/png": "[encoded data removed]",
      "text/plain": [
       "<Figure size 432x432 with 1 Axes>"
      ]
     },
     "metadata": {
      "needs_background": "light"
     },
     "output_type": "display_data"
    }
   ],
   "source": [
    "fig, ax = plt.subplots(figsize=(6, 6))\n",
    "ax.set_xlim(-2, 2)\n",
    "# ax.set_ylim(0, 2)\n",
    "ax.hist(errorsy, bins = 100, label = 'Y_error')\n",
    "# ax.hist(errorsx, bins = 500, label = 'X_error', log = True)\n",
    "ax.legend()"
   ]
  },
  {
   "cell_type": "code",
   "execution_count": 12,
   "metadata": {},
   "outputs": [
    {
     "name": "stdout",
     "output_type": "stream",
     "text": [
      "[ 2.42177297e+06 -2.12877393e+00]\n"
     ]
    },
    {
     "data": {
      "image/png": "[encoded data removed]",
      "text/plain": [
       "<Figure size 432x288 with 1 Axes>"
      ]
     },
     "metadata": {
      "needs_background": "light"
     },
     "output_type": "display_data"
    }
   ],
   "source": [
    "from scipy.optimize import curve_fit\n",
    "def func(E, A, g):\n",
    "    return A*E**(g)#*np.exp(-E/E_c)\n",
    "\n",
    "def exp_cut(E, A = 4.1, g = -1.67, Ec = 37):\n",
    "    TeV = 1\n",
    "    return A * (E / (10 * TeV)) ** (g) * np.exp(-E / (Ec * TeV))\n",
    "\n",
    "def R(E):\n",
    "    E1 = 10\n",
    "    \n",
    "\n",
    "E1, E2 = 0, 50\n",
    "Nbins = 10\n",
    "bins = np.linspace(E1, E2, Nbins)\n",
    "width = (E2 - E1) / Nbins\n",
    "spectra = np.zeros(Nbins)\n",
    "for e in energies:\n",
    "#     i = int(e.E // width)\n",
    "    i = int(e // width)\n",
    "    spectra[i] += 1\n",
    "    \n",
    "popt, pcov = curve_fit(func, bins[1:], spectra[1:])\n",
    "plt.scatter(bins[1:], spectra[1:])\n",
    "plt.plot(bins[1:], func(bins[1:], *popt), c='r')\n",
    "plt.plot(bins[1:], exp_cut(bins[1:]), c='r')\n",
    "plt.yscale('log')\n",
    "# plt.xscale('log')\n",
    "plt.grid()\n",
    "plt.title(\"Спектр Монте-Карло (после триггера)\")\n",
    "plt.xlabel(\"Энергия, ТэВ\")\n",
    "print(popt)"
   ]
  },
  {
   "cell_type": "code",
   "execution_count": 13,
   "metadata": {
    "scrolled": false
   },
   "outputs": [
    {
     "data": {
      "text/plain": [
       "[array([28320.,  9177.,  2548.,  1108.,   596.,   325.,   248.,   199.,\n",
       "          143.,    79.]),\n",
       " array([6596., 2971.,  835.,  417.,  256.,  166.,  121.,   82.,   56.,\n",
       "          25.]),\n",
       " array([2151., 2990., 1096.,  500.,  283.,  166.,  129.,   94.,   77.,\n",
       "          43.]),\n",
       " array([118., 903., 556., 311., 191., 116.,  80.,  69.,  52.,  28.]),\n",
       " array([  1., 185., 261., 232., 168., 118.,  98.,  91.,  60.,  49.])]"
      ]
     },
     "execution_count": 13,
     "metadata": {},
     "output_type": "execute_result"
    },
    {
     "data": {
      "image/png": "[encoded data removed]",
      "text/plain": [
       "<Figure size 432x432 with 1 Axes>"
      ]
     },
     "metadata": {
      "needs_background": "light"
     },
     "output_type": "display_data"
    }
   ],
   "source": [
    "fig, ax = plt.subplots(figsize=(6, 6))\n",
    "registered = [np.zeros(Nbins) for _ in range(5)]\n",
    "for e in events:\n",
    "      i = int(e.E // width)\n",
    "      registered[e.count() - 1][i] += 1\n",
    "      spectra[i] += 1\n",
    "# registered = [tel / spectra for tel in registered]\n",
    "for (i, tel) in enumerate(registered[1:], 2):\n",
    "    ax.plot(bins, tel/spectra, label = str(i)+'+')\n",
    "# ax.set_yscale()\n",
    "ax.legend()\n",
    "ax.grid()\n",
    "ax.set_xlabel(\"Энергия, ТэВ\")\n",
    "ax.set_ylabel(\"Площадь, км2\")\n",
    "registered"
   ]
  },
  {
   "cell_type": "code",
   "execution_count": 16,
   "metadata": {},
   "outputs": [
    {
     "name": "stdout",
     "output_type": "stream",
     "text": [
      "[1, 2, 3]\n",
      "1 2 3\n"
     ]
    }
   ],
   "source": [
    "a = [1, 2, 3]\n",
    "print(a)\n",
    "print(*a)"
   ]
  }
 ],
 "metadata": {
  "kernelspec": {
   "display_name": "Python 3",
   "language": "python",
   "name": "python3"
  },
  "language_info": {
   "codemirror_mode": {
    "name": "ipython",
    "version": 3
   },
   "file_extension": ".py",
   "mimetype": "text/x-python",
   "name": "python",
   "nbconvert_exporter": "python",
   "pygments_lexer": "ipython3",
   "version": "3.8.10"
  }
 },
 "nbformat": 4,
 "nbformat_minor": 4
}
